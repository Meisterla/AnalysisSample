{
 "cells": [
  {
   "cell_type": "code",
   "execution_count": 4,
   "metadata": {},
   "outputs": [],
   "source": [
    "import numpy as np\n",
    "import pandas as pd"
   ]
  },
  {
   "cell_type": "code",
   "execution_count": 5,
   "metadata": {},
   "outputs": [],
   "source": [
    "import pymysql"
   ]
  },
  {
   "cell_type": "code",
   "execution_count": 6,
   "metadata": {},
   "outputs": [],
   "source": [
    "conn = pymysql.connect(\"localhost\",\"root\",\"123456\",\"anime\",charset = 'utf8')"
   ]
  },
  {
   "cell_type": "code",
   "execution_count": 7,
   "metadata": {},
   "outputs": [],
   "source": [
    "cursor = conn.cursor()"
   ]
  },
  {
   "cell_type": "code",
   "execution_count": 8,
   "metadata": {},
   "outputs": [],
   "source": [
    "sql = \"select * from anime where edition = '%s' and year = '%s'\" % ('TV','2015')"
   ]
  },
  {
   "cell_type": "code",
   "execution_count": 9,
   "metadata": {},
   "outputs": [
    {
     "name": "stdout",
     "output_type": "stream",
     "text": [
      "ALDNOAH.ZERO_2 2 2015 1 高山克彦 TROYCA|A1  喂屎|机战 原创 TV None 花江夏树|小野贤章 \n",
      "Charlotte夏洛特 1 2015 7 麻枝准 PA 恋爱|奇幻 原创 TV None 内山昂辉|水岛大宙\n",
      "DOG DAYS_3 3 2015 1 都筑真纪 Seven Arcs 后宫|奇幻 原创 TV None 宫野真守\n",
      "Fate Stay Night UBW_2 2 2015 4 三浦贵博  ufotable 战斗|恋爱 GAL游戏 TV None 杉山纪彰\n",
      "ISUCA依丝卡 1 2015 1 铃木雅词 Arms 后宫|战斗 漫画 TV None 河本启佑\n",
      "K RETURN OF KINGS 2 2015 10 宫泽龙生 GoHands  战斗|奇幻 原创 TV None 浪川大辅|小野大辅|杉田智和|宫野真守|樱井孝宏|福山润|中村悠一\n",
      "Overlord 1 2015 7 菅原雪绘 MADHOUSE 装逼|战斗 轻小说 TV 11510 日野聪\n",
      "TO LOVE Darkness_2 4 2015 7 大槻敦史  XEBEC 后宫|卖肉 漫画 TV None None\n",
      "一拳超人 1 2015 10 铃木智寻 MADHOUSE 装逼|战斗|搞笑 漫画 TV None 古川慎|石川界人|梶裕贵|中村悠一\n",
      "下流梗不存在的灰暗世界 1 2015 7 横谷昌宏  JC 后宫|闭嘴 轻小说 TV None 小林裕介\n",
      "与魔共舞 1 2015 10 金春智子 Brain's Base 少女 原创 TV None 齐藤壮马|羽多野涉|近藤隆|木村昴|平川大辅 \n",
      "东京食尸鬼_2 2 2015 1 御笠之忠次 Pierrot 闭嘴|悲伤 漫画 TV None 花江夏树\n",
      "乱步奇谈 1 2015 7 上江洲诚 Lerche 推理|黑暗 原创 TV None 樱井孝宏\n",
      "亚尔斯兰战记 1 2015 4 上江洲诚 LIDENFILMS 战争|战斗 漫画 TV None 小林裕介|细谷佳正|浪川大辅\n",
      "伪恋_2 2 2015 4 新房昭之 SHAFT 后宫|恋爱|胃疼 漫画 TV None 内山昂辉\n",
      "侦探小队KZ事件簿 1 2015 10 山田由香 Signal MD 泡面 漫画 TV None 巽悠衣子\n",
      "俺物语 1 2015 4 高桥奈津子 MADHOUSE 恋爱 漫画 TV None 江口拓也\n",
      "偶像大师灰姑娘 1 2015 1 松尾祐辅|田中裕介|山田有庆  A1 偶像 游戏 TV 14952 None\n",
      "偶像大师灰姑娘_2 2 2015 7 松尾祐辅|田中裕介|山田有庆  A1 偶像 游戏 TV 10908 None\n",
      "元气少女结缘神_2 2 2015 1 大地丙太郎 TMS Entertainment 少女 漫画 TV None 立花慎之介|冈本信彦|石田彰\n",
      "全部成为F 1 2015 10 大野敏哉  A1 推理 轻小说 TV None 加濑康之\n",
      "六花的勇者 1 2015 7 浦畑达彦 PassioneF 战斗|恋爱 轻小说 TV None 齐藤壮马\n",
      "其实我是 1 2015 7 山下宪一 TMS Entertainment 后宫|奇幻 漫画 TV None 花江夏树\n",
      "创圣的大天使LOGOS 3 2015 7 熊谷纯|绫奈由仁子|望月真里子 SATELIGHT|C2C  机战|恋爱 原创 TV None 岛崎信长\n",
      "动画锻炼！EX 1 2015 10 石桥大助  Rising Force 泡面 原创 TV None None\n",
      "可塑性记忆 1 2015 4 林直孝 动画工房 恋爱|感人 原创 TV None 内匠靖明\n",
      "吹响！上低音号 1 2015 4 花田十辉 京都 百合 轻小说 TV None 黑泽朋世|朝井彩加|丰田萌绘|安济知佳|寿美菜子\n",
      "噬神者 1 2015 7 平尾隆之  ufotable 机战 游戏 TV None 木岛隆一|平田广明|中井和哉\n",
      "圣剑使的禁咒咏唱 1 2015 1 山口宏 diomedéa 后宫|战斗|装逼 轻小说 TV None 石川界人\n",
      "圣斗士星矢黄金魂 1 2015 4 竹内利光 东映动画 战斗|热血 原创 TV None 田中秀幸|\n",
      "在地下城寻求邂逅是否搞错了什么 1 2015 4 白根秀树 JC 后宫|热血|奇幻 轻小说 TV None 松冈祯丞\n",
      "城下町的蒲公英 1 2015 7 吉田玲子 Production IMS 后宫|日常 漫画 TV None 木村良平\n",
      "境界的轮回 1 2015 4 横手美智子 Brain's Base  超能力|校园 漫画 TV None 石川界人\n",
      "学园孤岛 1 2015 7 海法纪光 Lerche  百合|萌豚 漫画 TV None None\n",
      "学战都市六芒星 1 2015 10 川上哲也 A1 后宫|校园|战斗 轻小说 TV None 田丸笃志|内田雄马\n",
      "对魔导学园35试验小队  1 2015 10 下山健人 SILVER LINK. 战斗|后宫 轻小说 TV None 细谷佳正\n",
      "山田君与7人魔女 1 2015 4 横手美智子 LIDENFILMS 后宫|恋爱 漫画 TV None 逢坂良太\n",
      "干物妹！小埋  1 2015 7 青岛崇 动画工房 日常|卖萌 漫画 TV None 野岛健儿\n",
      "彗星路西法 1 2015 10 野村祐一 8bit 机战|恋爱 原创 TV None 小林裕介\n",
      "恶魔高校DxD BorN 3 2015 4 后藤润二|依田正彦  TNK 战斗|后宫|卖肉 轻小说 TV None 梶裕贵\n",
      "悠哉日常大王_2 2 2015 7 吉田玲子|志茂文彦|山田由香 SILVER LINK. 日常|搞笑 漫画 TV None None\n",
      "我的青春恋爱物语果然有问题_2 2 2015 4 菅正太郎 Brain's Base 恋爱|后宫 轻小说 TV 11163 江口拓也\n",
      "我老婆是学生会长 1 2015 7 古川博之 SEVEN 日常|恋爱|卖肉 漫画 TV None 兴津和幸\n",
      "我被抓到贵族女校当“庶民样本” 1 2015 10 下山健人 SILVER LINK.  后宫|恋爱 轻小说 TV None 田丸笃志\n",
      "排球少年_2 2 2015 10 岸本卓 Production I.G 热血|运动 漫画 TV 15153 村濑步|石川界人|日野聪|入野自由\n",
      "摇曳百合 3☆High! 3 2015 10 太田雅彦 动画工房 百合|搞笑|日常|萌豚 漫画 TV None None\n",
      "教室危机 1 2015 7 丸户史明 Lay-duce 恋爱|职场|胃疼|校园 原创 TV None 内田雄马\n",
      "新妹魔王的契约者 1 2015 1 吉冈孝夫 Production IMS 后宫|卖肉 轻小说 TV None 中村悠一\n",
      "新妹魔王的契约者 BURST 2 2015 10 植竹须美男 Production IMS 后宫|卖肉 轻小说 TV None 中村悠一\n",
      "无头骑士异闻录×2 承 2 2015 1 高木登  Brain's Base 日常|战斗 轻小说 TV None 丰永利行|宫野真守|福山润|神谷浩史|小野大辅|中村悠一|梶裕贵|寺岛拓笃|黑田崇矢|堀江一真|冈本信彦|上田佑司\n",
      "无头骑士异闻录×2 转 3 2015 7 高木登  Brain's Base 日常|战斗 轻小说 TV None 丰永利行|宫野真守|福山润|神谷浩史|小野大辅|中村悠一|梶裕贵|寺岛拓笃|黑田崇矢|堀江一真|冈本信彦|上田佑司\n",
      "暗杀教室 1 2015 1 黑泽桂子|山形孝二 Lerche 奇幻|搞笑 漫画 TV None 福山润|杉田智和\n",
      "机动战士敢达：铁血的奥尔芬斯 1 2015 10 冈田磨里 SUNRISE 机战|恋爱 原创 TV None 河西健吾|细谷佳正\n",
      "枪与假面舞会 1 2015 10 子安秀明 Studio五组 后宫|战斗 轻小说 TV None 山下大辉\n",
      "枪神斯托拉塔斯 1 2015 4 虚渊玄 A1 热血|战斗 游戏 TV None 阿部敦\n",
      "樱子小姐的脚下埋着尸体 1 2015 10 伊神贵世 TROYCA 推理|恋爱 轻小说 TV None 榎木淳弥\n",
      "歌之☆王子殿下♪ 真爱革命 3 2015 4 金春智子 A1 少女 游戏 TV 59780 寺岛拓笃|铃村健一|谷山纪章|宫野真守|诹访部顺一|下野紘\n",
      "比基尼勇者 1 2015 7 玉井☆豪  feel.|PRA 泡面|卖肉 原创 TV None None\n",
      "灰色的乐园 3 2015 4 仓田英之 8bit 战斗|后宫|装逼 GAL游戏 TV None 樱井孝宏\n",
      "灰色的迷宫 2 2015 4 仓田英之 8bit 战斗|后宫|装逼 GAL游戏 TV None 樱井孝宏\n",
      "玉响_2 2 2015 7 佐藤顺一 HAL FILM MAKER 青春|日常 原创 TV None None\n",
      "监狱学园 1 2015 7 横手美智子 JC 后宫|推理 漫画 TV None 神谷浩史|小西克幸|铃村健一|浪川大辅|兴津和幸\n",
      "空战魔导士候补生的教官 1 2015 7 山口宏 diomedéa 后宫|战斗 轻小说 TV None 松冈祯丞\n",
      "纯洁的玛利亚 1 2015 1 仓田英之 Production I.G 战争|搞笑 漫画 TV None 小野贤章|小野友树\n",
      "终物语 1 2015 10 新房昭之 SHAFT 后宫|恋爱|奇幻 轻小说 TV 26124 神谷浩史\n",
      "终结的炽天使 1 2015 4 濑古浩司  WIT STUDIO 战斗|闭嘴 漫画 TV None 入野自由|冈本信彦|中村悠一|小野贤章\n",
      "终结的炽天使 名古屋决战篇 2 2015 10 濑古浩司  WIT STUDIO 战斗|闭嘴 漫画 TV None 入野自由|冈本信彦|中村悠一|小野贤章\n",
      "绝命制裁X 1 2015 4 高山克彦 XEBEC 战斗|恋爱 漫画 TV None 赤羽根健治\n",
      "绝对双刃 1 2015 1 鸿野贵光 8bit 后宫|战斗 轻小说 TV None 松冈祯丞\n",
      "绯弹的亚里亚AA 1 2015 10 志茂文彦 动画工房 百合|战斗 轻小说 TV None None\n",
      "网球优等生_2 2 2015 4 千叶克彦|武上纯希|高桥奈津子 Studio Pierrot 运动|恋爱 漫画 TV None 村田太志\n",
      "群居姐妹 1 2015 7 木村宽 Creators in Pack  后宫|日常 漫画 TV None 阿部敦\n",
      "舰队collection 1 2015 1 花田十辉 Diomedéa 日常|百合 游戏 TV 18031 None\n",
      "落第骑士英雄谭 1 2015 10 安川正吾 SILVER LINK.|NEXUS  后宫|战斗|校园 轻小说 TV None 逢坂良太\n",
      "血界战线 1 2015 4 古家和尚 BONES 战斗 漫画 TV 16265 阪口大助|小山力也|中井和哉\n",
      "请问您今天要来点兔子吗_2 2 2015 10 笔安一幸|井上美绪  WHITE FOX 萌豚|百合 漫画 TV 12580 None\n",
      "赤发白雪姬  1 2015 7 赤尾凸 BONES 少女|恋爱 漫画 TV None 逢坂良太|冈本信彦|福山润|石田彰\n",
      "赤龙战役 1 2015 7 小太刀右京 SILVER LINK.|CONNECT 奇幻|战斗 原创 TV None None\n",
      "路人女主的养成方法 1 2015 1 丸户史明 A1 后宫|校园 轻小说 TV None 松冈祯丞\n",
      "迷糊餐厅_犬组_3 3 2015 7 平池芳正 A1 搞笑|恋爱|职场 漫画 TV None 福山润|神谷浩史|小野大辅\n",
      "重装武器 1 2015 10 吉野弘幸 JC 战斗|后宫 轻小说 TV None 花江夏树|石川界人\n",
      "野良神 ARAGOTO 2 2015 10 赤尾Deco BONES 战斗|恋爱 漫画 TV None 神谷浩史|梶裕贵\n",
      "铳皇无尽的法夫纳 1 2015 1 江夏由结 diomedéa 后宫|战斗 轻小说 TV None 松冈祯丞\n",
      "青春×机关枪 1 2015 7 古怒田健志 Brain's Base  少女 漫画 TV None 小松未可子\n",
      "食戟之灵 1 2015 4 米谷良知 JC 热血|恋爱 漫画 TV None 冈祯丞|冈本信彦|诹访部顺一\n",
      "魔法少女伊莉雅_3 3 2015 7 大沼心 SILVER LINK. 百合|奇幻 漫画 TV None 杉山纪彰\n",
      "魔法少女奈叶ViVid 4 2015 4 小林成朗  A1 百合|战斗 漫画 TV None None\n",
      "魔物娘的相伴日常 1 2015 7 笔安一幸 Lerche|SEVA 后宫|奇幻 漫画 TV None 间岛淳司\n",
      "魔鬼恋人_2 2 2015 10 田头忍 ZEXCS 少女 游戏 TV None 鸟海浩辅|小西克幸|绿川光|梶裕贵|平川大辅\n",
      "黑子的篮球_3 3 2015 1 高木登 ProductionI.G 热血|运动 漫画 TV 15424 小野贤章\n",
      "黑街 1 2015 7 猪爪慎一|木村畅  Manglobe 黑暗 漫画 TV None 诹访部顺一|村濑步\n"
     ]
    }
   ],
   "source": [
    "try:\n",
    "    cursor.execute(sql)\n",
    "    results = cursor.fetchall()\n",
    "    for row in results:\n",
    "        name = row[0]\n",
    "        season = row[1]\n",
    "        year = row[2]\n",
    "        month = row[3]\n",
    "        company = row[4]\n",
    "        types = row[5]\n",
    "        source = row[6]\n",
    "        edition = row[7]\n",
    "        sales_volume = row[8]\n",
    "        cast_m = row[9]\n",
    "        cast_w = row[10]\n",
    "        print (name, season, year, month, company,types ,source ,edition ,sales_volume ,cast_m ,cast_w )\n",
    "except:\n",
    "    print (\"Error: unable to fetch data\")"
   ]
  },
  {
   "cell_type": "code",
   "execution_count": 42,
   "metadata": {},
   "outputs": [],
   "source": [
    "conn.close()"
   ]
  }
 ],
 "metadata": {
  "kernelspec": {
   "display_name": "Python 3",
   "language": "python",
   "name": "python3"
  },
  "language_info": {
   "codemirror_mode": {
    "name": "ipython",
    "version": 3
   },
   "file_extension": ".py",
   "mimetype": "text/x-python",
   "name": "python",
   "nbconvert_exporter": "python",
   "pygments_lexer": "ipython3",
   "version": "3.6.5"
  }
 },
 "nbformat": 4,
 "nbformat_minor": 2
}
